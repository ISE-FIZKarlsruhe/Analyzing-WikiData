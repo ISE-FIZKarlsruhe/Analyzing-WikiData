{
 "cells": [
  {
   "cell_type": "code",
   "execution_count": 1,
   "metadata": {},
   "outputs": [],
   "source": [
    "import igraph as ig\n",
    "import csv\n",
    "from collections import defaultdict\n",
    "from collections import namedtuple\n",
    "import community\n",
    "import networkx as nx\n",
    "import numpy as np\n",
    "import operator\n",
    "import pydot\n",
    "import plotly.plotly as py\n",
    "import plotly.graph_objs as go\n",
    "from networkx.drawing.nx_pydot import write_dot\n",
    "from networkx.drawing.nx_pydot import graphviz_layout\n",
    "from networkx.drawing.nx_pydot import pydot_layout\n",
    "import matplotlib.pyplot as plt\n",
    "import matplotlib\n",
    "import plotly\n",
    "import plotly.offline as pyo\n",
    "import math\n",
    "import random\n",
    "import re\n",
    "plotly.tools.set_credentials_file(username='pcsplotly', api_key='ofJJAPLfVgSYzk4mmyzi')\n",
    "\n",
    "\n",
    "#-----------------------------------\n",
    "filepath = \"project_companies/\"\n",
    "topic = \"Companys\"\n",
    "#-----------------------------------\n",
    "\n",
    "louvainoutput = \"louvain_clean_names.csv\"\n",
    "overlapgraph = \"overlapgraph_clean\"\n",
    "finished = \"finished\""
   ]
  },
  {
   "cell_type": "code",
   "execution_count": 2,
   "metadata": {},
   "outputs": [
    {
     "data": {
      "text/plain": [
       "'0.7.1'"
      ]
     },
     "execution_count": 2,
     "metadata": {},
     "output_type": "execute_result"
    }
   ],
   "source": [
    "ig.__version__  #requires version 0.7.1"
   ]
  },
  {
   "cell_type": "code",
   "execution_count": 3,
   "metadata": {},
   "outputs": [
    {
     "data": {
      "text/plain": [
       "'1.11'"
      ]
     },
     "execution_count": 3,
     "metadata": {},
     "output_type": "execute_result"
    }
   ],
   "source": [
    "nx.__version__ #requires version 1.11"
   ]
  },
  {
   "cell_type": "code",
   "execution_count": 4,
   "metadata": {},
   "outputs": [
    {
     "data": {
      "text/plain": [
       "'2.7.0'"
      ]
     },
     "execution_count": 4,
     "metadata": {},
     "output_type": "execute_result"
    }
   ],
   "source": [
    "plotly.__version__ #requires 2.7.0"
   ]
  },
  {
   "cell_type": "code",
   "execution_count": 49,
   "metadata": {},
   "outputs": [],
   "source": [
    "# Parsing the 'finished' file\n",
    "clustering_meta_tex = [\"Total count in knowledgebase: \",\"Entities in overlapgraph: \",\"Entities in large clusters: \",\"<br>Clusters: \",\"Avg cluster size: \"]\n",
    "clustering_meta_num = []\n",
    "clusterinformation = defaultdict()\n",
    "Cluster = namedtuple('info', ['size', 'score', 'example_members', 'top_attributes'], verbose=False)\n",
    "with open(filepath+finished, encoding=\"utf8\") as f:\n",
    "    i = 0\n",
    "    for line in f:\n",
    "        i += 1\n",
    "        if i>4 and i<10:\n",
    "            clustering_meta_num.append(\"<b>\"+str(int(float(re.findall(r'\\d+\\.?\\d*', line)[0])))+\"</b>\")\n",
    "        else:\n",
    "            if line.startswith(\"Cluster No.\"):\n",
    "                j = 0 # counter for how many attributes will be viewed/added\n",
    "                u = 0 # counter for how many unique attributes will be viewed/added\n",
    "                info = re.findall(r'\\d+\\.?\\d*', line)\n",
    "                #print(info)\n",
    "                name = int(info[0])\n",
    "                size = int(info[1])\n",
    "                nonpart = int(info[2])\n",
    "                avg_cov = float(info[3])\n",
    "                max_cov = int(info[4])\n",
    "                #summing the inverse of non\n",
    "                score = ((1-(nonpart/size))*100)+(avg_cov*10)+(max_cov*10)\n",
    "                clusterinformation[name] = Cluster(size=size, score=score, example_members=[],top_attributes=[])\n",
    "            \n",
    "            #get the to ranked attributes\n",
    "            if line.startswith(\"(\"):\n",
    "                j += 1\n",
    "                s_line = line[1:].split(',')\n",
    "                if j <= 3:\n",
    "                    clusterinformation[name].top_attributes.append(str(\"Q\"+s_line[0]+s_line[1])) \n",
    "                ## To allow for the first encountered unique\n",
    "                #if re.findall(r', \\d, ', line)[0] == \", 1, \" and u == 0 and j >3:\n",
    "                #    u += 1\n",
    "                #    clusterinformation[name].top_attributes.append(str(\"Q\"+s_line[0]+s_line[1]))\n",
    "            \n",
    "            #get the max coverage members\n",
    "            if line.startswith(\"Max Coverage Members:\"):\n",
    "                # add the first 3 max coverage members\n",
    "                for n in re.findall(r'\\d+', line)[:3]:\n",
    "                    clusterinformation[name].example_members.append(str(\"Q\"+n))\n",
    "                    \n",
    "    clustering_meta = \"<br>\".join([tex+num for tex,num in zip(clustering_meta_tex,clustering_meta_num)])"
   ]
  },
  {
   "cell_type": "code",
   "execution_count": 43,
   "metadata": {},
   "outputs": [
    {
     "name": "stdout",
     "output_type": "stream",
     "text": [
      "Total count in knowledgebase: <b>112012</b><br>Entities in overlapgraph: <b>42517</b><br>Entities in large clusters: <b>33566</b><br><br>Clusters: <b>18</b><br>Avg cluster size: <b>1864</b>\n"
     ]
    }
   ],
   "source": [
    "print(clustering_meta)"
   ]
  },
  {
   "cell_type": "code",
   "execution_count": 44,
   "metadata": {},
   "outputs": [
    {
     "name": "stdout",
     "output_type": "stream",
     "text": [
      "(1, info(size=2033, score=172.00689, example_members=['Q29507562', 'Q26567150', 'Q29487308'], top_attributes=[\"Q27686 'hotel'\", \"Q15700834 'Grade II listed building'\", \"Q145 'United Kingdom'\", \"Q817971 'Conwy County Borough'\"]))\n",
      "(2, info(size=899, score=215.59510294771968, example_members=['Q1297674'], top_attributes=[\"Q1320047 'book publishing company'\", \"Q2085381 'publisher'\", \"Q183 'Germany'\", \"Q1741 'Vienna'\"]))\n",
      "(3, info(size=1616, score=195.42697574257426, example_members=['Q4894805', 'Q7063764', 'Q5339801'], top_attributes=[\"Q30 'United States'\", \"Q19558910 'place listed on the National Register of Historic Places'\", \"Q27686 'hotel'\", \"Q188913 'plantation'\"]))\n",
      "(4, info(size=1018, score=190.9332043222004, example_members=['Q12221'], top_attributes=[\"Q213 'Czech Republic'\", \"Q4830453 'business enterprise'\", \"Q1085 'Prague'\", \"Q36 'Poland'\"]))\n",
      "(5, info(size=4660, score=185.67382300429185, example_members=['Q2466256', 'Q2470307'], top_attributes=[\"Q30 'United States'\", \"Q4830453 'business enterprise'\", \"Q82059 'NASDAQ'\", \"Q60 'New York City'\"]))\n",
      "(7, info(size=4022, score=174.23918884634512, example_members=['Q396486', 'Q323802', 'Q2248698'], top_attributes=[\"Q183 'Germany'\", \"Q4830453 'business enterprise'\", \"Q460178 'Gesellschaft mit beschränkter Haftung'\", \"Q279014 'Societas Europaea'\"]))\n",
      "(8, info(size=757, score=179.43196722589167, example_members=['Q375982', 'Q3909455', 'Q649646'], top_attributes=[\"Q490 'Milan'\", \"Q134161 'joint-stock company'\", \"Q4830453 'business enterprise'\", \"Q220 'Rome'\"]))\n",
      "(9, info(size=3843, score=169.91933048920114, example_members=['Q1423812', 'Q502509', 'Q481356'], top_attributes=[\"Q4830453 'business enterprise'\", \"Q145 'United Kingdom'\", \"Q84 'London'\", \"Q1490 'Tokyo'\"]))\n",
      "(10, info(size=1920, score=167.44791666666666, example_members=['Q2377931', 'Q24038997', 'Q2297140'], top_attributes=[\"Q142 'France'\", \"Q4830453 'business enterprise'\", \"Q90 'Paris'\", \"Q654502 'Société par actions simplifiée'\"]))\n",
      "(11, info(size=3775, score=171.56821, example_members=['Q26297895', 'Q26561108', 'Q26539867'], top_attributes=[\"Q212198 'pub'\", \"Q15700834 'Grade II listed building'\", \"Q145 'United Kingdom'\", \"Q23154 'Bristol'\"]))\n",
      "(13, info(size=816, score=183.68873, example_members=['Q1375151', 'Q1671838', 'Q1338298'], top_attributes=[\"Q460178 'Gesellschaft mit beschränkter Haftung'\", \"Q18624259 'private limited liability company'\", \"Q183 'Germany'\", \"Q2066 'Essen'\"]))\n",
      "(14, info(size=2688, score=171.31324, example_members=['Q29501589', 'Q26302440', 'Q26606309'], top_attributes=[\"Q256020 'inn'\", \"Q15700834 'Grade II listed building'\", \"Q145 'United Kingdom'\", \"Q23111 'Suffolk'\"]))\n",
      "(16, info(size=1319, score=180.9780141243366, example_members=['Q22999268', 'Q1062623', 'Q4426345'], top_attributes=[\"Q159 'Russia'\", \"Q4830453 'business enterprise'\", \"Q649 'Moscow'\", \"Q34 'Sweden'\"]))\n",
      "(17, info(size=846, score=182.34043, example_members=['Q21036550', 'Q883522', 'Q1486164'], top_attributes=[\"Q897103 'GmbH & Co. KG'\", \"Q183 'Germany'\", \"Q4830453 'business enterprise'\", \"Q2107 'Wuppertal'\"]))\n",
      "(18, info(size=632, score=211.72468, example_members=['Q127305', 'Q821688', 'Q821466'], top_attributes=[\"Q131734 'brewery'\", \"Q869095 'brewing'\", \"Q183 'Germany'\", \"Q167270 'trademark'\"]))\n",
      "(19, info(size=1554, score=178.97683864864865, example_members=['Q28367519', 'Q27928982', 'Q26222652'], top_attributes=[\"Q29 'Spain'\", \"Q11032 'newspaper'\", \"Q1321 'Spanish'\", \"Q2807 'Madrid'\"]))\n",
      "(27, info(size=567, score=179.20635, example_members=['Q29947344', 'Q29947406', 'Q29947593'], top_attributes=[\"Q2416217 'theatre troupe'\", \"Q39 'Switzerland'\", \"Q11917 'Canton of Geneva'\", \"Q12771 'Vaud'\"]))\n",
      "(62, info(size=601, score=189.60066168053243, example_members=['Q15059324'], top_attributes=[\"Q11032 'newspaper'\", \"Q665319 'broadsheet'\", \"Q30 'United States'\", \"Q1449648 'tabloid'\"]))\n"
     ]
    }
   ],
   "source": [
    "for n in clusterinformation.items():\n",
    "    print(n)"
   ]
  },
  {
   "cell_type": "markdown",
   "metadata": {},
   "source": [
    "# Loading the Louvain Output \n",
    "## and convert it into a dictionary of node:partition"
   ]
  },
  {
   "cell_type": "code",
   "execution_count": 8,
   "metadata": {},
   "outputs": [
    {
     "name": "stdout",
     "output_type": "stream",
     "text": [
      "project_companies/louvain_clean_names.csv\n"
     ]
    }
   ],
   "source": [
    "##Building the main dictionary from the louvainoutput file\n",
    "threshold = 500\n",
    "belowthreshold = []\n",
    "sizes = defaultdict()\n",
    "partitioning = defaultdict()\n",
    "print(filepath+louvainoutput)\n",
    "with open(filepath+louvainoutput, \"rt\", encoding=\"utf8\") as csvfile:\n",
    "    reader = csv.reader(csvfile, delimiter=';')\n",
    "    for row in reader:\n",
    "        partition=row.pop(0)\n",
    "        size=int(row.pop(0))\n",
    "        if size < threshold:\n",
    "                belowthreshold.append(partition)\n",
    "        else:\n",
    "            sizes[partition] = size\n",
    "        for node in row:\n",
    "            partitioning[node] = partition\n",
    "           "
   ]
  },
  {
   "cell_type": "markdown",
   "metadata": {},
   "source": [
    "## Loading the overlapgraph as a proper nx graph"
   ]
  },
  {
   "cell_type": "code",
   "execution_count": 9,
   "metadata": {},
   "outputs": [
    {
     "name": "stdout",
     "output_type": "stream",
     "text": [
      "Building weighted graph from project_companies/overlapgraph_clean...\n",
      "Done.\n"
     ]
    }
   ],
   "source": [
    "def buildWeightedGraph():\n",
    "    print(\"Building weighted graph from %s...\" % (filepath+overlapgraph))\n",
    "    fh = open(filepath+overlapgraph, 'rb')\n",
    "    G = nx.read_weighted_edgelist(fh, delimiter=\";\")\n",
    "    print(\"Done.\")\n",
    "    return G\n",
    "\n",
    "if True:\n",
    "    original = buildWeightedGraph()"
   ]
  },
  {
   "cell_type": "markdown",
   "metadata": {},
   "source": [
    "### check if overlapgraph and partitioning are consitent"
   ]
  },
  {
   "cell_type": "code",
   "execution_count": 10,
   "metadata": {
    "scrolled": true
   },
   "outputs": [
    {
     "data": {
      "text/plain": [
       "True"
      ]
     },
     "execution_count": 10,
     "metadata": {},
     "output_type": "execute_result"
    }
   ],
   "source": [
    "membersinoverlap = list(map(int, original.nodes()))\n",
    "uniqueinoverlap = list(set(membersinoverlap) - set(map(int,partitioning.keys())))\n",
    "uniqueinclustrering = list(set(map(int,partitioning.keys())) - set(membersinoverlap))\n",
    "bool(uniqueinclustrering) == bool(uniqueinoverlap) == False"
   ]
  },
  {
   "cell_type": "markdown",
   "metadata": {},
   "source": [
    "## Build the induced graph based on the partitioning and the original graph"
   ]
  },
  {
   "cell_type": "code",
   "execution_count": 11,
   "metadata": {},
   "outputs": [],
   "source": [
    "## get induced graph for all clusters\n",
    "if False:\n",
    "    induced = community.induced_graph(partitioning, original)\n",
    "    # Save induced graph\n",
    "    nx.write_gpickle(induced, filepath+\"clustering_induced_graph.pkl\")\t\n",
    "else:\n",
    "    induced = nx.read_gpickle(filepath+\"clustering_induced_graph.pkl\")\t"
   ]
  },
  {
   "cell_type": "code",
   "execution_count": 12,
   "metadata": {},
   "outputs": [],
   "source": [
    "# removing too small clusters\n",
    "induced.remove_nodes_from(belowthreshold)"
   ]
  },
  {
   "cell_type": "code",
   "execution_count": 13,
   "metadata": {},
   "outputs": [],
   "source": [
    "sorted_sizes=[x for _,x in sorted(sizes.items(), key=lambda kv: kv[1], reverse=True)]\n",
    "max_size = max(sorted_sizes)\n",
    "min_size = min(sorted_sizes)\n",
    "\n",
    "def normalize(value, max_size=max_size, min_size=min_size):\n",
    "    return (value - min_size) / (max_size-min_size)\n",
    "\n",
    "normalized_sizes = defaultdict()\n",
    "for key,value in sizes.items():\n",
    "    normalized_sizes[key]=normalize(value)"
   ]
  },
  {
   "cell_type": "code",
   "execution_count": 14,
   "metadata": {},
   "outputs": [],
   "source": [
    "# adding the size attribute\n",
    "nx.set_node_attributes(induced, \"size\", sizes)\n",
    "\n",
    "# adding the normalized size attribute\n",
    "nx.set_node_attributes(induced, \"normalized_size\", normalized_sizes)\n",
    "\n",
    "# adding current (louvain) name as attribute\n",
    "nx.set_node_attributes(induced, 'louvain_name', dict(zip( induced.nodes(),  induced.nodes())))"
   ]
  },
  {
   "cell_type": "code",
   "execution_count": 15,
   "metadata": {},
   "outputs": [],
   "source": [
    "# size mapping <oldname><sizerank>  /ranking by size and relabelling\n",
    "mapping = dict(zip([x for x,_ in sorted(sizes.items(), key=lambda kv: kv[1], reverse=True)], range(0, induced.number_of_nodes())))\n",
    "induced_relabeled = nx.relabel_nodes(induced, mapping)"
   ]
  },
  {
   "cell_type": "code",
   "execution_count": 16,
   "metadata": {},
   "outputs": [],
   "source": [
    "# export to .dot\n",
    "nx.write_graphml(induced_relabeled,filepath+'induced.graphml') # Export NX graph to file\n",
    "induced_ig = ig.read(filepath+'induced.graphml',format=\"graphml\") # Create new IG graph from file"
   ]
  },
  {
   "cell_type": "markdown",
   "metadata": {},
   "source": [
    "# Plotting Nx Graph in 2D"
   ]
  },
  {
   "cell_type": "code",
   "execution_count": 17,
   "metadata": {},
   "outputs": [],
   "source": [
    "# generate positions for the nodes (standard layout)\n",
    "pos=pydot_layout(induced_relabeled,prog='dot')\n",
    "\n",
    "# generate positions for the nodes (spring/force layout)\n",
    "force_pos = {key:(value[0],value[1]) for key,value in nx.spring_layout(induced_relabeled,scale=10000).items()}\n",
    "\n",
    "# generate positions for the nodes (spectral layout)\n",
    "circular_pos = {key:(value[0],value[1]) for key,value in nx.circular_layout(induced_relabeled,scale=10000).items()}\n",
    "\n",
    "# add these positions as node features\n",
    "nx.set_node_attributes(induced_relabeled, \"pos\", pos)"
   ]
  },
  {
   "cell_type": "code",
   "execution_count": 18,
   "metadata": {},
   "outputs": [],
   "source": [
    "# calculate general position infos on the whole graph\n",
    "dmin=1\n",
    "ncenter=0\n",
    "for n in pos:\n",
    "    x,y=pos[n]\n",
    "    d=(x-0.5)**2+(y-0.5)**2\n",
    "    if d<dmin:\n",
    "        ncenter=n\n",
    "        dmin=d\n",
    "        \n",
    "p=nx.single_source_shortest_path_length(induced_relabeled,ncenter)"
   ]
  },
  {
   "cell_type": "code",
   "execution_count": 19,
   "metadata": {
    "scrolled": true
   },
   "outputs": [],
   "source": [
    "edge_weights = []\n",
    "\n",
    "for u,v in induced_relabeled.edges():\n",
    "    if u != v:\n",
    "        edge_weights.append(math.log(induced_relabeled.get_edge_data(u,v)[\"weight\"]+1))\n",
    "    else:\n",
    "        edge_weights.append(0)\n",
    "        \n",
    "max_log_edgeweight=max(edge_weights)"
   ]
  },
  {
   "cell_type": "code",
   "execution_count": 20,
   "metadata": {
    "scrolled": true
   },
   "outputs": [],
   "source": [
    "edge_weights = norm = [float(i)/max(edge_weights)*5 for i in edge_weights]\n"
   ]
  },
  {
   "cell_type": "markdown",
   "metadata": {},
   "source": [
    "## Create Edges"
   ]
  },
  {
   "cell_type": "code",
   "execution_count": 21,
   "metadata": {},
   "outputs": [],
   "source": [
    "#edge_trace = go.Scatter(\n",
    "#    x=[],\n",
    "#    y=[],\n",
    "#    line=dict(width=0.5,color='#888'),\n",
    "#    text=dumm_edge_weights,\n",
    "#    hoverinfo=\"text\",\n",
    "#    mode='lines')\n",
    "#\n",
    "#for edge in induced_relabeled.edges():\n",
    "#    x0, y0 = induced_relabeled.node[edge[0]]['pos']\n",
    "#    x1, y1 = induced_relabeled.node[edge[1]]['pos']\n",
    "#    edge_trace['x'] += [x0, x1, None]\n",
    "#    edge_trace['y'] += [y0, y1, None]\n",
    "\n",
    "edge_traces = []\n",
    "\n",
    "for edge,weight in zip(induced_relabeled.edges(),edge_weights):\n",
    "    x0, y0 = induced_relabeled.node[edge[0]]['pos']\n",
    "    x1, y1 = induced_relabeled.node[edge[1]]['pos']\n",
    "    edge_traces.append(go.Scatter(\n",
    "    x=[x0, x1, None],\n",
    "    y=[y0, y1, None],\n",
    "    line=dict(width=weight,color='#888'),\n",
    "    text = str(weight),\n",
    "    hoverinfo ='text',\n",
    "    mode='lines'))\n",
    "\n",
    "\n",
    "node_trace = go.Scatter(\n",
    "    x=[],\n",
    "    y=[],\n",
    "    text=[],\n",
    "    mode='markers',\n",
    "    hoverinfo='text',\n",
    "    marker=dict(\n",
    "        showscale=True,\n",
    "        # colorscale options\n",
    "        # 'Greys' | 'Greens' | 'Bluered' | 'Hot' | 'Picnic' | 'Portland' |\n",
    "        # Jet' | 'RdBu' | 'Blackbody' | 'Earth' | 'Electric' | 'YIOrRd' | 'YIGnBu'\n",
    "        colorscale='YIGnBu',\n",
    "        reversescale=True,\n",
    "        color=[],\n",
    "        size=10,\n",
    "        colorbar=dict(\n",
    "            thickness=15,\n",
    "            title='Node Connections',\n",
    "            xanchor='left',\n",
    "            titleside='right'\n",
    "        ),\n",
    "        line=dict(width=2)))\n",
    "\n",
    "for node in induced_relabeled.nodes():\n",
    "    x, y = induced_relabeled.node[node]['pos']\n",
    "    node_trace['x'].append(x)\n",
    "    node_trace['y'].append(y)"
   ]
  },
  {
   "cell_type": "markdown",
   "metadata": {},
   "source": [
    "## Manipulate Edge Appearance"
   ]
  },
  {
   "cell_type": "markdown",
   "metadata": {},
   "source": [
    "## Create Node Appearance and Info"
   ]
  },
  {
   "cell_type": "code",
   "execution_count": 22,
   "metadata": {},
   "outputs": [],
   "source": [
    "#individual node setting\n",
    "colors = []\n",
    "descriptions = []\n",
    "node_sizes = []\n",
    "sizefactor = 50\n",
    "for node, adjacencies in enumerate(induced_relabeled.adjacency_list()):\n",
    "    colors.append(len(adjacencies))\n",
    "    \n",
    "    #add the nodes hover info\n",
    "    node_info = 'Node no: '+str(node)+'<br>Size: '+str(induced_relabeled.node[node]['size'])+'<br># of connections: '+str(len(adjacencies))+'<br>Louvain id: '+str(induced_relabeled.node[node]['louvain_name'])\n",
    "    \n",
    "    descriptions.append(node_info)\n",
    "    #node_sizes = list(map(lambda v : (v+1)*sizefactor,normalized_sizes))\n",
    "    node_sizes.append((induced_relabeled.node[node]['normalized_size']+1)*sizefactor)\n",
    "    \n",
    "node_trace['marker']['color'] = colors\n",
    "node_trace['text'] = descriptions\n",
    "node_trace['marker']['size'] = node_sizes\n",
    "    "
   ]
  },
  {
   "cell_type": "markdown",
   "metadata": {},
   "source": [
    "## Create/Draw Network Graph\n"
   ]
  },
  {
   "cell_type": "code",
   "execution_count": 23,
   "metadata": {
    "scrolled": true
   },
   "outputs": [
    {
     "name": "stdout",
     "output_type": "stream",
     "text": [
      "High five! You successfully sent some data to your account on plotly. View your plot in your browser at https://plot.ly/~pcsplotly/0 or inside your plot.ly account where it is named 'networkx'\n"
     ]
    },
    {
     "data": {
      "text/html": [
       "<iframe id=\"igraph\" scrolling=\"no\" style=\"border:none;\" seamless=\"seamless\" src=\"https://plot.ly/~pcsplotly/0.embed\" height=\"525px\" width=\"100%\"></iframe>"
      ],
      "text/plain": [
       "<plotly.tools.PlotlyDisplay object>"
      ]
     },
     "execution_count": 23,
     "metadata": {},
     "output_type": "execute_result"
    }
   ],
   "source": [
    "fig = go.Figure(data=[*edge_traces, node_trace],\n",
    "             layout=go.Layout(\n",
    "                title='<br>Network graph',\n",
    "                titlefont=dict(size=16),\n",
    "                showlegend=False,\n",
    "                hovermode='closest',\n",
    "                margin=dict(b=20,l=5,r=5,t=40),\n",
    "                annotations=[ dict(\n",
    "                    text=\"...\",\n",
    "                    showarrow=False,\n",
    "                    xref=\"paper\", yref=\"paper\",\n",
    "                    x=0.005, y=-0.002 ) ],\n",
    "                xaxis=dict(showgrid=False, zeroline=False, showticklabels=False),\n",
    "                yaxis=dict(showgrid=False, zeroline=False, showticklabels=False)))\n",
    "\n",
    "py.iplot(fig, filename='networkx')\n",
    "#pyo.plot(fig, filename='networkx')"
   ]
  },
  {
   "cell_type": "markdown",
   "metadata": {},
   "source": [
    "<br><br><br><br>\n",
    "# igraph"
   ]
  },
  {
   "cell_type": "code",
   "execution_count": 24,
   "metadata": {},
   "outputs": [],
   "source": [
    "#[n for n in induced_relabeled.node.values()]"
   ]
  },
  {
   "cell_type": "code",
   "execution_count": 25,
   "metadata": {},
   "outputs": [],
   "source": [
    "N = len(induced_relabeled.nodes())\n",
    "#layt=induced_ig.layout('circular_3d')\n",
    "layt=induced_ig.layout('kk',dim=3)"
   ]
  },
  {
   "cell_type": "code",
   "execution_count": 26,
   "metadata": {},
   "outputs": [],
   "source": [
    "scale=1\n",
    "\n",
    "Xn=[layt[k][0]*scale for k in range(N)]# x-coordinates of nodes\n",
    "Yn=[layt[k][1]*scale  for k in range(N)]# y-coordinates\n",
    "Zn=[layt[k][2]*scale  for k in range(N)]# z-coordinates\n",
    "Xe=[]\n",
    "Ye=[]\n",
    "Ze=[]\n",
    "\n",
    "\n",
    "#for e in induced_ig.get_edgelist():\n",
    "#    Xe+=[layt[e[0]][0],layt[e[1]][0], None]# x-coordinates of edge ends\n",
    "#    Ye+=[layt[e[0]][1],layt[e[1]][1], None]\n",
    "#    Ze+=[layt[e[0]][2],layt[e[1]][2], None]"
   ]
  },
  {
   "cell_type": "code",
   "execution_count": 27,
   "metadata": {},
   "outputs": [],
   "source": [
    "#new single edge traces with weights and annotations\n",
    "edge_traces_3d = []\n",
    "    \n",
    "for edge in induced_ig.es:\n",
    "    source_vertex_id = edge.source\n",
    "    target_vertex_id = edge.target\n",
    "    Xe=[layt[source_vertex_id][0],layt[target_vertex_id][0], None]# x-coordinates of edge ends\n",
    "    Ye=[layt[source_vertex_id][1],layt[target_vertex_id][1], None]\n",
    "    Ze=[layt[source_vertex_id][2],layt[target_vertex_id][2], None]\n",
    "    if source_vertex_id == target_vertex_id:\n",
    "        weight = 0\n",
    "    else:\n",
    "        weight = (math.log(edge['weight'])/max_log_edgeweight)*10\n",
    "        #weight = ((edge['weight'])/math.exp(max_log_edgeweight))*10\n",
    "        #weight = random.random()*50\n",
    "        \n",
    "    edge_traces_3d.append(go.Scatter3d(x=Xe,\n",
    "               y=Ye,\n",
    "               z=Ze,\n",
    "               mode='lines',\n",
    "               line=dict(color='rgb(125,125,125)', \n",
    "               width=weight),\n",
    "               text=str(round(edge['weight'])),\n",
    "               hoverinfo='none'\n",
    "               ))"
   ]
  },
  {
   "cell_type": "markdown",
   "metadata": {},
   "source": [
    "## Nodes"
   ]
  },
  {
   "cell_type": "code",
   "execution_count": 50,
   "metadata": {},
   "outputs": [],
   "source": [
    "##Original edge trace\n",
    "#trace1=go.Scatter3d(x=Xe,\n",
    "#               y=Ye,\n",
    "#               z=Ze,\n",
    "#               mode='lines',\n",
    "#               line=dict(color='rgb(125,125,125)', width=1),\n",
    "#               hoverinfo='none'\n",
    "#               )\n",
    "descriptions = []\n",
    "for k in range(N):\n",
    "    ln = int(induced_relabeled.node[k]['louvain_name'])\n",
    "    description = \"<b>Size:</b> \"+str(clusterinformation[ln].size)+\\\n",
    "    \"<br><b>Top Attributes:</b><br>\"+\"\".join([a+\"<br>\" for a in clusterinformation[ln].top_attributes])+\\\n",
    "    \"<br><b>Examples:</b><br>\"+str(clusterinformation[ln].example_members)\n",
    "    \n",
    "    \n",
    "    descriptions.append(description)\n",
    "\n",
    "#node trace\n",
    "node_trace_3d =go.Scatter3d(x=Xn,\n",
    "               y=Yn,\n",
    "               z=Zn,\n",
    "               mode='markers',\n",
    "               name='clusters',\n",
    "               marker=dict(symbol='dot',\n",
    "                             size=[x/2 for x in node_sizes],\n",
    "                             color=colors,\n",
    "                             colorscale='Viridis',\n",
    "                             line=dict(color='rgb(50,50,50)', width=0.5)\n",
    "                             ),\n",
    "               text=descriptions,\n",
    "               hoverinfo='text'\n",
    "               )\n",
    "\n",
    "#heading trace\n",
    "label_trace_3d =go.Scatter3d(x=Xn,\n",
    "               y=Yn,\n",
    "               z=Zn,\n",
    "               mode='text',\n",
    "               text=[n['louvain_name'] for n in induced_relabeled.node.values()],\n",
    "               #text= [clusterinformation[int(n['louvain_name'])] for n in induced_relabeled.node.values()], \n",
    "               hoverinfo='none'\n",
    "               )"
   ]
  },
  {
   "cell_type": "code",
   "execution_count": 51,
   "metadata": {},
   "outputs": [],
   "source": [
    "axis=dict(showbackground=False,\n",
    "          showline=False,\n",
    "          zeroline=False,\n",
    "          showgrid=False,\n",
    "          showticklabels=False,\n",
    "          title='')"
   ]
  },
  {
   "cell_type": "code",
   "execution_count": 52,
   "metadata": {},
   "outputs": [],
   "source": [
    "layout = go.Layout(\n",
    "         title=topic+\" - Clustering (3D visualization)\",\n",
    "         width=1600,\n",
    "         height=900,\n",
    "         showlegend=False,\n",
    "         scene=dict(\n",
    "             xaxis=dict(axis),\n",
    "             yaxis=dict(axis),\n",
    "             zaxis=dict(axis),\n",
    "        ),\n",
    "     margin=dict(\n",
    "        t=100\n",
    "    ),\n",
    "    hovermode='closest',\n",
    "    annotations=[\n",
    "           dict(\n",
    "           showarrow=False,\n",
    "            text=clustering_meta,\n",
    "            xref='paper',\n",
    "            yref='paper',\n",
    "            x=0,\n",
    "            y=0.1,\n",
    "            xanchor='left',\n",
    "            yanchor='bottom',\n",
    "            font=dict(\n",
    "            size=14\n",
    "            )\n",
    "            )\n",
    "        ],    )"
   ]
  },
  {
   "cell_type": "code",
   "execution_count": 54,
   "metadata": {},
   "outputs": [
    {
     "data": {
      "text/plain": [
       "'file://D:\\\\WikiData\\\\3D.html'"
      ]
     },
     "execution_count": 54,
     "metadata": {},
     "output_type": "execute_result"
    }
   ],
   "source": [
    "data=[*edge_traces_3d, node_trace_3d,label_trace_3d]\n",
    "fig=go.Figure(data=data, layout=layout)\n",
    "\n",
    "\n",
    "#py.iplot(fig, filename='3D')\n",
    "pyo.plot(fig, filename='3D.html')"
   ]
  },
  {
   "cell_type": "code",
   "execution_count": null,
   "metadata": {},
   "outputs": [],
   "source": []
  },
  {
   "cell_type": "code",
   "execution_count": null,
   "metadata": {},
   "outputs": [],
   "source": []
  },
  {
   "cell_type": "code",
   "execution_count": null,
   "metadata": {},
   "outputs": [],
   "source": []
  }
 ],
 "metadata": {
  "kernelspec": {
   "display_name": "Python 3",
   "language": "python",
   "name": "python3"
  },
  "language_info": {
   "codemirror_mode": {
    "name": "ipython",
    "version": 3
   },
   "file_extension": ".py",
   "mimetype": "text/x-python",
   "name": "python",
   "nbconvert_exporter": "python",
   "pygments_lexer": "ipython3",
   "version": "3.5.0"
  }
 },
 "nbformat": 4,
 "nbformat_minor": 2
}
