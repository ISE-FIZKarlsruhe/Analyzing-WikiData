{
 "cells": [
  {
   "cell_type": "code",
   "execution_count": 264,
   "metadata": {},
   "outputs": [],
   "source": [
    "import igraph as ig\n",
    "import csv\n",
    "from collections import defaultdict\n",
    "import community\n",
    "import networkx as nx\n",
    "import numpy as np\n",
    "import operator\n",
    "import pydot\n",
    "import plotly.plotly as py\n",
    "import plotly.graph_objs as go\n",
    "from networkx.drawing.nx_pydot import write_dot\n",
    "from networkx.drawing.nx_pydot import graphviz_layout\n",
    "from networkx.drawing.nx_pydot import pydot_layout\n",
    "import matplotlib.pyplot as plt\n",
    "import matplotlib\n",
    "import plotly\n",
    "import plotly.offline as pyo\n",
    "import math\n",
    "import random\n",
    "plotly.tools.set_credentials_file(username='pcsplotly', api_key='ofJJAPLfVgSYzk4mmyzi')\n",
    "\n",
    "filepath = \"project_companies/\"\n",
    "louvainoutput = \"louvain_clean_names.csv\"\n",
    "overlapgraph = \"overlapgraph_clean\""
   ]
  },
  {
   "cell_type": "code",
   "execution_count": 7,
   "metadata": {},
   "outputs": [
    {
     "data": {
      "text/plain": [
       "'0.7.1'"
      ]
     },
     "execution_count": 7,
     "metadata": {},
     "output_type": "execute_result"
    }
   ],
   "source": [
    "ig.__version__  #requires version 0.7.1"
   ]
  },
  {
   "cell_type": "code",
   "execution_count": 323,
   "metadata": {},
   "outputs": [
    {
     "data": {
      "text/plain": [
       "'1.11'"
      ]
     },
     "execution_count": 323,
     "metadata": {},
     "output_type": "execute_result"
    }
   ],
   "source": [
    "nx.__version__ #requires version 1.11"
   ]
  },
  {
   "cell_type": "code",
   "execution_count": 260,
   "metadata": {},
   "outputs": [
    {
     "data": {
      "text/plain": [
       "'2.7.0'"
      ]
     },
     "execution_count": 260,
     "metadata": {},
     "output_type": "execute_result"
    }
   ],
   "source": [
    "plotly.__version__ #requires 2.7.0"
   ]
  },
  {
   "cell_type": "markdown",
   "metadata": {},
   "source": [
    "# Loading the Louvain Output \n",
    "## and convert it into a dictionary of node:partition"
   ]
  },
  {
   "cell_type": "code",
   "execution_count": 3,
   "metadata": {},
   "outputs": [
    {
     "name": "stdout",
     "output_type": "stream",
     "text": [
      "project_companies/louvain_clean_names.csv\n"
     ]
    }
   ],
   "source": [
    "##Building the main dictionary from the louvainoutput file\n",
    "threshold = 200\n",
    "belowthreshold = []\n",
    "sizes = defaultdict()\n",
    "partitioning = defaultdict()\n",
    "print(filepath+louvainoutput)\n",
    "with open(filepath+louvainoutput, \"rt\", encoding=\"utf8\") as csvfile:\n",
    "    reader = csv.reader(csvfile, delimiter=';')\n",
    "    for row in reader:\n",
    "        partition=row.pop(0)\n",
    "        size=int(row.pop(0))\n",
    "        if size < threshold:\n",
    "                belowthreshold.append(partition)\n",
    "        else:\n",
    "            sizes[partition] = size\n",
    "        for node in row:\n",
    "            partitioning[node] = partition\n",
    "           "
   ]
  },
  {
   "cell_type": "markdown",
   "metadata": {},
   "source": [
    "## Loading the overlapgraph as a proper nx graph"
   ]
  },
  {
   "cell_type": "code",
   "execution_count": 4,
   "metadata": {},
   "outputs": [
    {
     "name": "stdout",
     "output_type": "stream",
     "text": [
      "Building weighted graph from project_companies/overlapgraph_clean...\n",
      "Done.\n"
     ]
    }
   ],
   "source": [
    "def buildWeightedGraph():\n",
    "    print(\"Building weighted graph from %s...\" % (filepath+overlapgraph))\n",
    "    fh = open(filepath+overlapgraph, 'rb')\n",
    "    G = nx.read_weighted_edgelist(fh, delimiter=\";\")\n",
    "    print(\"Done.\")\n",
    "    return G\n",
    "\n",
    "if True:\n",
    "    original = buildWeightedGraph()"
   ]
  },
  {
   "cell_type": "markdown",
   "metadata": {},
   "source": [
    "### check if overlapgraph and partitioning are consitent"
   ]
  },
  {
   "cell_type": "code",
   "execution_count": 5,
   "metadata": {
    "scrolled": true
   },
   "outputs": [
    {
     "data": {
      "text/plain": [
       "True"
      ]
     },
     "execution_count": 5,
     "metadata": {},
     "output_type": "execute_result"
    }
   ],
   "source": [
    "membersinoverlap = list(map(int, original.nodes()))\n",
    "uniqueinoverlap = list(set(membersinoverlap) - set(map(int,partitioning.keys())))\n",
    "uniqueinclustrering = list(set(map(int,partitioning.keys())) - set(membersinoverlap))\n",
    "bool(uniqueinclustrering) == bool(uniqueinoverlap) == False"
   ]
  },
  {
   "cell_type": "markdown",
   "metadata": {},
   "source": [
    "## Build the induced graph based on the partitioning and the original graph"
   ]
  },
  {
   "cell_type": "code",
   "execution_count": 6,
   "metadata": {},
   "outputs": [],
   "source": [
    "## get induced graph for all clusters\n",
    "if False:\n",
    "    induced = community.induced_graph(partitioning, original)\n",
    "    # Save induced graph\n",
    "    nx.write_gpickle(induced, filepath+\"clustering_induced_graph.pkl\")\t\n",
    "else:\n",
    "    induced = nx.read_gpickle(filepath+\"clustering_induced_graph.pkl\")\t"
   ]
  },
  {
   "cell_type": "code",
   "execution_count": 8,
   "metadata": {},
   "outputs": [],
   "source": [
    "# removing too small clusters\n",
    "induced.remove_nodes_from(belowthreshold)"
   ]
  },
  {
   "cell_type": "code",
   "execution_count": 9,
   "metadata": {},
   "outputs": [],
   "source": [
    "sorted_sizes=[x for _,x in sorted(sizes.items(), key=lambda kv: kv[1], reverse=True)]\n",
    "max_size = max(sorted_sizes)\n",
    "min_size = min(sorted_sizes)\n",
    "\n",
    "def normalize(value, max_size=max_size, min_size=min_size):\n",
    "    return (value - min_size) / (max_size-min_size)\n",
    "\n",
    "normalized_sizes = defaultdict()\n",
    "for key,value in sizes.items():\n",
    "    normalized_sizes[key]=normalize(value)"
   ]
  },
  {
   "cell_type": "code",
   "execution_count": 11,
   "metadata": {},
   "outputs": [],
   "source": [
    "# adding the size attribute\n",
    "nx.set_node_attributes(induced, \"size\", sizes)\n",
    "\n",
    "# adding the normalized size attribute\n",
    "nx.set_node_attributes(induced, \"normalized_size\", normalized_sizes)\n",
    "\n",
    "# adding current (louvain) name as attribute\n",
    "nx.set_node_attributes(induced, 'louvain_name', dict(zip( induced.nodes(),  induced.nodes())))"
   ]
  },
  {
   "cell_type": "code",
   "execution_count": 318,
   "metadata": {},
   "outputs": [],
   "source": [
    "# size mapping <oldname><sizerank>  /ranking by size and relabelling\n",
    "mapping = dict(zip([x for x,_ in sorted(sizes.items(), key=lambda kv: kv[1], reverse=True)], range(0, induced.number_of_nodes())))\n",
    "induced_relabeled = nx.relabel_nodes(induced, mapping)"
   ]
  },
  {
   "cell_type": "code",
   "execution_count": 321,
   "metadata": {},
   "outputs": [],
   "source": [
    "# export to .dot\n",
    "nx.write_graphml(induced_relabeled,filepath+'induced.graphml') # Export NX graph to file\n",
    "induced_ig = ig.read(filepath+'induced.graphml',format=\"graphml\") # Create new IG graph from file"
   ]
  },
  {
   "cell_type": "code",
   "execution_count": 322,
   "metadata": {},
   "outputs": [
    {
     "ename": "SystemError",
     "evalue": "<built-in method Read_Pajek of type object at 0x0000022C75659EA8> returned NULL without setting an error",
     "output_type": "error",
     "traceback": [
      "\u001b[1;31m---------------------------------------------------------------------------\u001b[0m",
      "\u001b[1;31mSystemError\u001b[0m                               Traceback (most recent call last)",
      "\u001b[1;32m<ipython-input-322-aa6e51dded26>\u001b[0m in \u001b[0;36m<module>\u001b[1;34m()\u001b[0m\n\u001b[0;32m      1\u001b[0m \u001b[1;31m# export to .dot\u001b[0m\u001b[1;33m\u001b[0m\u001b[1;33m\u001b[0m\u001b[0m\n\u001b[0;32m      2\u001b[0m \u001b[0mnx\u001b[0m\u001b[1;33m.\u001b[0m\u001b[0mwrite_pajek\u001b[0m\u001b[1;33m(\u001b[0m\u001b[0minduced_relabeled\u001b[0m\u001b[1;33m,\u001b[0m\u001b[0mfilepath\u001b[0m\u001b[1;33m+\u001b[0m\u001b[1;34m'induced.pajek'\u001b[0m\u001b[1;33m)\u001b[0m \u001b[1;31m# Export NX graph to file\u001b[0m\u001b[1;33m\u001b[0m\u001b[0m\n\u001b[1;32m----> 3\u001b[1;33m \u001b[0minduced_ig\u001b[0m \u001b[1;33m=\u001b[0m \u001b[0mig\u001b[0m\u001b[1;33m.\u001b[0m\u001b[0mread\u001b[0m\u001b[1;33m(\u001b[0m\u001b[0mfilepath\u001b[0m\u001b[1;33m+\u001b[0m\u001b[1;34m'induced.pajek'\u001b[0m\u001b[1;33m,\u001b[0m\u001b[0mformat\u001b[0m\u001b[1;33m=\u001b[0m\u001b[1;34m\"pajek\"\u001b[0m\u001b[1;33m)\u001b[0m \u001b[1;31m# Create new IG graph from file\u001b[0m\u001b[1;33m\u001b[0m\u001b[0m\n\u001b[0m",
      "\u001b[1;32mc:\\python35\\lib\\site-packages\\igraph\\__init__.py\u001b[0m in \u001b[0;36mread\u001b[1;34m(filename, *args, **kwds)\u001b[0m\n\u001b[0;32m   4061\u001b[0m     \u001b[1;33m@\u001b[0m\u001b[0mparam\u001b[0m \u001b[0mfilename\u001b[0m\u001b[1;33m:\u001b[0m \u001b[0mthe\u001b[0m \u001b[0mname\u001b[0m \u001b[0mof\u001b[0m \u001b[0mthe\u001b[0m \u001b[0mfile\u001b[0m \u001b[0mto\u001b[0m \u001b[0mbe\u001b[0m \u001b[0mloaded\u001b[0m\u001b[1;33m\u001b[0m\u001b[0m\n\u001b[0;32m   4062\u001b[0m     \"\"\"\n\u001b[1;32m-> 4063\u001b[1;33m     \u001b[1;32mreturn\u001b[0m \u001b[0mGraph\u001b[0m\u001b[1;33m.\u001b[0m\u001b[0mRead\u001b[0m\u001b[1;33m(\u001b[0m\u001b[0mfilename\u001b[0m\u001b[1;33m,\u001b[0m \u001b[1;33m*\u001b[0m\u001b[0margs\u001b[0m\u001b[1;33m,\u001b[0m \u001b[1;33m**\u001b[0m\u001b[0mkwds\u001b[0m\u001b[1;33m)\u001b[0m\u001b[1;33m\u001b[0m\u001b[0m\n\u001b[0m\u001b[0;32m   4064\u001b[0m \u001b[0mload\u001b[0m\u001b[1;33m=\u001b[0m\u001b[0mread\u001b[0m\u001b[1;33m\u001b[0m\u001b[0m\n\u001b[0;32m   4065\u001b[0m \u001b[1;33m\u001b[0m\u001b[0m\n",
      "\u001b[1;32mc:\\python35\\lib\\site-packages\\igraph\\__init__.py\u001b[0m in \u001b[0;36mRead\u001b[1;34m(klass, f, format, *args, **kwds)\u001b[0m\n\u001b[0;32m   2221\u001b[0m             \u001b[1;32mraise\u001b[0m \u001b[0mIOError\u001b[0m\u001b[1;33m(\u001b[0m\u001b[1;34m\"no reader method for file format: %s\"\u001b[0m \u001b[1;33m%\u001b[0m \u001b[0mstr\u001b[0m\u001b[1;33m(\u001b[0m\u001b[0mformat\u001b[0m\u001b[1;33m)\u001b[0m\u001b[1;33m)\u001b[0m\u001b[1;33m\u001b[0m\u001b[0m\n\u001b[0;32m   2222\u001b[0m         \u001b[0mreader\u001b[0m \u001b[1;33m=\u001b[0m \u001b[0mgetattr\u001b[0m\u001b[1;33m(\u001b[0m\u001b[0mklass\u001b[0m\u001b[1;33m,\u001b[0m \u001b[0mreader\u001b[0m\u001b[1;33m)\u001b[0m\u001b[1;33m\u001b[0m\u001b[0m\n\u001b[1;32m-> 2223\u001b[1;33m         \u001b[1;32mreturn\u001b[0m \u001b[0mreader\u001b[0m\u001b[1;33m(\u001b[0m\u001b[0mf\u001b[0m\u001b[1;33m,\u001b[0m \u001b[1;33m*\u001b[0m\u001b[0margs\u001b[0m\u001b[1;33m,\u001b[0m \u001b[1;33m**\u001b[0m\u001b[0mkwds\u001b[0m\u001b[1;33m)\u001b[0m\u001b[1;33m\u001b[0m\u001b[0m\n\u001b[0m\u001b[0;32m   2224\u001b[0m     \u001b[0mLoad\u001b[0m \u001b[1;33m=\u001b[0m \u001b[0mRead\u001b[0m\u001b[1;33m\u001b[0m\u001b[0m\n\u001b[0;32m   2225\u001b[0m \u001b[1;33m\u001b[0m\u001b[0m\n",
      "\u001b[1;31mSystemError\u001b[0m: <built-in method Read_Pajek of type object at 0x0000022C75659EA8> returned NULL without setting an error"
     ]
    }
   ],
   "source": [
    "# export to .dot\n",
    "nx.write_pajek(induced_relabeled,filepath+'induced.pajek') # Export NX graph to file\n",
    "induced_ig = ig.read(filepath+'induced.pajek',format=\"pajek\") # Create new IG graph from file"
   ]
  },
  {
   "cell_type": "markdown",
   "metadata": {},
   "source": [
    "# Plotting Nx Graph in 2D"
   ]
  },
  {
   "cell_type": "code",
   "execution_count": 309,
   "metadata": {},
   "outputs": [],
   "source": [
    "# generate positions for the nodes (standard layout)\n",
    "pos=pydot_layout(induced_relabeled,prog='dot')\n",
    "\n",
    "# generate positions for the nodes (spring/force layout)\n",
    "force_pos = {key:(value[0],value[1]) for key,value in nx.spring_layout(induced_relabeled,scale=10000).items()}\n",
    "\n",
    "# generate positions for the nodes (spectral layout)\n",
    "circular_pos = {key:(value[0],value[1]) for key,value in nx.circular_layout(induced_relabeled,scale=10000).items()}\n",
    "\n",
    "# add these positions as node features\n",
    "nx.set_node_attributes(induced_relabeled, \"pos\", circular_pos)"
   ]
  },
  {
   "cell_type": "code",
   "execution_count": 310,
   "metadata": {},
   "outputs": [],
   "source": [
    "# calculate general position infos on the whole graph\n",
    "dmin=1\n",
    "ncenter=0\n",
    "for n in pos:\n",
    "    x,y=pos[n]\n",
    "    d=(x-0.5)**2+(y-0.5)**2\n",
    "    if d<dmin:\n",
    "        ncenter=n\n",
    "        dmin=d\n",
    "        \n",
    "p=nx.single_source_shortest_path_length(induced_relabeled,ncenter)"
   ]
  },
  {
   "cell_type": "code",
   "execution_count": 311,
   "metadata": {
    "scrolled": true
   },
   "outputs": [],
   "source": [
    "edge_weights = []\n",
    "\n",
    "for u,v in induced_relabeled.edges():\n",
    "    if u != v:\n",
    "        edge_weights.append(math.log(induced_relabeled.get_edge_data(u,v)[\"weight\"]+1))\n",
    "    else:\n",
    "        edge_weights.append(0)\n",
    "        \n",
    "max_log_edgeweight=max(edge_weights)"
   ]
  },
  {
   "cell_type": "code",
   "execution_count": 312,
   "metadata": {
    "scrolled": true
   },
   "outputs": [],
   "source": [
    "edge_weights = norm = [float(i)/max(edge_weights)*5 for i in edge_weights]\n"
   ]
  },
  {
   "cell_type": "markdown",
   "metadata": {},
   "source": [
    "## Create Edges"
   ]
  },
  {
   "cell_type": "code",
   "execution_count": 313,
   "metadata": {},
   "outputs": [],
   "source": [
    "#edge_trace = go.Scatter(\n",
    "#    x=[],\n",
    "#    y=[],\n",
    "#    line=dict(width=0.5,color='#888'),\n",
    "#    text=dumm_edge_weights,\n",
    "#    hoverinfo=\"text\",\n",
    "#    mode='lines')\n",
    "#\n",
    "#for edge in induced_relabeled.edges():\n",
    "#    x0, y0 = induced_relabeled.node[edge[0]]['pos']\n",
    "#    x1, y1 = induced_relabeled.node[edge[1]]['pos']\n",
    "#    edge_trace['x'] += [x0, x1, None]\n",
    "#    edge_trace['y'] += [y0, y1, None]\n",
    "\n",
    "edge_traces = []\n",
    "\n",
    "for edge,weight in zip(induced_relabeled.edges(),edge_weights):\n",
    "    x0, y0 = induced_relabeled.node[edge[0]]['pos']\n",
    "    x1, y1 = induced_relabeled.node[edge[1]]['pos']\n",
    "    edge_traces.append(go.Scatter(\n",
    "    x=[x0, x1, None],\n",
    "    y=[y0, y1, None],\n",
    "    line=dict(width=weight,color='#888'),\n",
    "    text = str(weight),\n",
    "    hoverinfo ='text',\n",
    "    mode='lines'))\n",
    "\n",
    "\n",
    "node_trace = go.Scatter(\n",
    "    x=[],\n",
    "    y=[],\n",
    "    text=[],\n",
    "    mode='markers',\n",
    "    hoverinfo='text',\n",
    "    marker=dict(\n",
    "        showscale=True,\n",
    "        # colorscale options\n",
    "        # 'Greys' | 'Greens' | 'Bluered' | 'Hot' | 'Picnic' | 'Portland' |\n",
    "        # Jet' | 'RdBu' | 'Blackbody' | 'Earth' | 'Electric' | 'YIOrRd' | 'YIGnBu'\n",
    "        colorscale='YIGnBu',\n",
    "        reversescale=True,\n",
    "        color=[],\n",
    "        size=10,\n",
    "        colorbar=dict(\n",
    "            thickness=15,\n",
    "            title='Node Connections',\n",
    "            xanchor='left',\n",
    "            titleside='right'\n",
    "        ),\n",
    "        line=dict(width=2)))\n",
    "\n",
    "for node in induced_relabeled.nodes():\n",
    "    x, y = induced_relabeled.node[node]['pos']\n",
    "    node_trace['x'].append(x)\n",
    "    node_trace['y'].append(y)"
   ]
  },
  {
   "cell_type": "markdown",
   "metadata": {},
   "source": [
    "## Manipulate Edge Appearance"
   ]
  },
  {
   "cell_type": "markdown",
   "metadata": {},
   "source": [
    "## Create Node Colors"
   ]
  },
  {
   "cell_type": "code",
   "execution_count": 314,
   "metadata": {},
   "outputs": [],
   "source": [
    "#individual node setting\n",
    "colors = []\n",
    "descriptions = []\n",
    "node_sizes = []\n",
    "sizefactor = 50\n",
    "for node, adjacencies in enumerate(induced_relabeled.adjacency_list()):\n",
    "    colors.append(len(adjacencies))\n",
    "    node_info = 'Node no: '+str(node)+'<br>Size: '+str(induced_relabeled.node[node]['size'])+'<br># of connections: '+str(len(adjacencies))+'<br>Louvain id: '+str(induced_relabeled.node[node]['louvain_name'])\n",
    "    descriptions.append(node_info)\n",
    "    #node_sizes = list(map(lambda v : (v+1)*sizefactor,normalized_sizes))\n",
    "    node_sizes.append((induced_relabeled.node[node]['normalized_size']+1)*sizefactor)\n",
    "    \n",
    "node_trace['marker']['color'] = colors\n",
    "node_trace['text'] = descriptions\n",
    "node_trace['marker']['size'] = node_sizes\n",
    "    "
   ]
  },
  {
   "cell_type": "markdown",
   "metadata": {},
   "source": [
    "## Create/Draw Network Graph\n"
   ]
  },
  {
   "cell_type": "code",
   "execution_count": 315,
   "metadata": {},
   "outputs": [
    {
     "name": "stdout",
     "output_type": "stream",
     "text": [
      "High five! You successfully sent some data to your account on plotly. View your plot in your browser at https://plot.ly/~pcsplotly/0 or inside your plot.ly account where it is named 'networkx'\n"
     ]
    },
    {
     "data": {
      "text/html": [
       "<iframe id=\"igraph\" scrolling=\"no\" style=\"border:none;\" seamless=\"seamless\" src=\"https://plot.ly/~pcsplotly/0.embed\" height=\"525px\" width=\"100%\"></iframe>"
      ],
      "text/plain": [
       "<plotly.tools.PlotlyDisplay object>"
      ]
     },
     "execution_count": 315,
     "metadata": {},
     "output_type": "execute_result"
    }
   ],
   "source": [
    "fig = go.Figure(data=[*edge_traces, node_trace],\n",
    "             layout=go.Layout(\n",
    "                title='<br>Network graph',\n",
    "                titlefont=dict(size=16),\n",
    "                showlegend=False,\n",
    "                hovermode='closest',\n",
    "                margin=dict(b=20,l=5,r=5,t=40),\n",
    "                annotations=[ dict(\n",
    "                    text=\"...\",\n",
    "                    showarrow=False,\n",
    "                    xref=\"paper\", yref=\"paper\",\n",
    "                    x=0.005, y=-0.002 ) ],\n",
    "                xaxis=dict(showgrid=False, zeroline=False, showticklabels=False),\n",
    "                yaxis=dict(showgrid=False, zeroline=False, showticklabels=False)))\n",
    "\n",
    "py.iplot(fig, filename='networkx')\n",
    "#pyo.plot(fig, filename='networkx')"
   ]
  },
  {
   "cell_type": "markdown",
   "metadata": {},
   "source": [
    "<br><br><br><br>\n",
    "# igraph"
   ]
  },
  {
   "cell_type": "code",
   "execution_count": 252,
   "metadata": {},
   "outputs": [],
   "source": [
    "N = len(induced_relabeled.nodes())\n",
    "#layt=induced_ig.layout('circular_3d')\n",
    "layt=induced_ig.layout('kk',dim=3)"
   ]
  },
  {
   "cell_type": "code",
   "execution_count": 253,
   "metadata": {},
   "outputs": [],
   "source": [
    "scale=1\n",
    "\n",
    "Xn=[layt[k][0]*scale for k in range(N)]# x-coordinates of nodes\n",
    "Yn=[layt[k][1]*scale  for k in range(N)]# y-coordinates\n",
    "Zn=[layt[k][2]*scale  for k in range(N)]# z-coordinates\n",
    "Xe=[]\n",
    "Ye=[]\n",
    "Ze=[]\n",
    "\n",
    "\n",
    "#for e in induced_ig.get_edgelist():\n",
    "#    Xe+=[layt[e[0]][0],layt[e[1]][0], None]# x-coordinates of edge ends\n",
    "#    Ye+=[layt[e[0]][1],layt[e[1]][1], None]\n",
    "#    Ze+=[layt[e[0]][2],layt[e[1]][2], None]"
   ]
  },
  {
   "cell_type": "code",
   "execution_count": 254,
   "metadata": {},
   "outputs": [],
   "source": [
    "#new single edge traces with weights and annotations\n",
    "edge_traces_3d = []\n",
    "    \n",
    "for edge in induced_ig.es:\n",
    "    source_vertex_id = edge.source\n",
    "    target_vertex_id = edge.target\n",
    "    Xe=[layt[source_vertex_id][0],layt[target_vertex_id][0], None]# x-coordinates of edge ends\n",
    "    Ye=[layt[source_vertex_id][1],layt[target_vertex_id][1], None]\n",
    "    Ze=[layt[source_vertex_id][2],layt[target_vertex_id][2], None]\n",
    "    if source_vertex_id == target_vertex_id:\n",
    "        weight = 0\n",
    "    else:\n",
    "        weight = (math.log(edge['weight'])/max_log_edgeweight)*10\n",
    "        #weight = ((edge['weight'])/math.exp(max_log_edgeweight))*10\n",
    "        #weight = random.random()*50\n",
    "        \n",
    "    edge_traces_3d.append(go.Scatter3d(x=Xe,\n",
    "               y=Ye,\n",
    "               z=Ze,\n",
    "               mode='lines',\n",
    "               line=dict(color='rgb(125,125,125)', \n",
    "               width=weight),\n",
    "               text=str(round(edge['weight'])),\n",
    "               hoverinfo='none'\n",
    "               ))"
   ]
  },
  {
   "cell_type": "code",
   "execution_count": 255,
   "metadata": {},
   "outputs": [],
   "source": [
    "##Original edge trace\n",
    "#trace1=go.Scatter3d(x=Xe,\n",
    "#               y=Ye,\n",
    "#               z=Ze,\n",
    "#               mode='lines',\n",
    "#               line=dict(color='rgb(125,125,125)', width=1),\n",
    "#               hoverinfo='none'\n",
    "#               )\n",
    "\n",
    "#node trace\n",
    "node_trace_3d =go.Scatter3d(x=Xn,\n",
    "               y=Yn,\n",
    "               z=Zn,\n",
    "               mode='markers',\n",
    "               name='clusters',\n",
    "               marker=dict(symbol='dot',\n",
    "                             size=[x/2 for x in node_sizes],\n",
    "                             color=colors,\n",
    "                             colorscale='Viridis',\n",
    "                             line=dict(color='rgb(50,50,50)', width=0.5)\n",
    "                             ),\n",
    "               text=descriptions,\n",
    "               hoverinfo='text'\n",
    "               )\n",
    "\n",
    "#heading trace\n",
    "label_trace_3d =go.Scatter3d(x=Xn,\n",
    "               y=Yn,\n",
    "               z=Zn,\n",
    "               mode='text',\n",
    "               text=\"Label\",\n",
    "               hoverinfo='none'\n",
    "               )"
   ]
  },
  {
   "cell_type": "code",
   "execution_count": 257,
   "metadata": {},
   "outputs": [],
   "source": [
    "axis=dict(showbackground=False,\n",
    "          showline=False,\n",
    "          zeroline=False,\n",
    "          showgrid=False,\n",
    "          showticklabels=False,\n",
    "          title='')"
   ]
  },
  {
   "cell_type": "code",
   "execution_count": 300,
   "metadata": {},
   "outputs": [],
   "source": [
    "#node_sizes"
   ]
  },
  {
   "cell_type": "code",
   "execution_count": 258,
   "metadata": {},
   "outputs": [],
   "source": [
    "layout = go.Layout(\n",
    "         title=\"Network (3D visualization)\",\n",
    "         width=1600,\n",
    "         height=900,\n",
    "         showlegend=False,\n",
    "         scene=dict(\n",
    "             xaxis=dict(axis),\n",
    "             yaxis=dict(axis),\n",
    "             zaxis=dict(axis),\n",
    "        ),\n",
    "     margin=dict(\n",
    "        t=100\n",
    "    ),\n",
    "    hovermode='closest',\n",
    "    annotations=[\n",
    "           dict(\n",
    "           showarrow=False,\n",
    "            text=\"...\",\n",
    "            xref='paper',\n",
    "            yref='paper',\n",
    "            x=0,\n",
    "            y=0.1,\n",
    "            xanchor='left',\n",
    "            yanchor='bottom',\n",
    "            font=dict(\n",
    "            size=14\n",
    "            )\n",
    "            )\n",
    "        ],    )"
   ]
  },
  {
   "cell_type": "code",
   "execution_count": 259,
   "metadata": {},
   "outputs": [
    {
     "name": "stderr",
     "output_type": "stream",
     "text": [
      "c:\\python35\\lib\\site-packages\\plotly\\offline\\offline.py:459: UserWarning:\n",
      "\n",
      "Your filename `3D` didn't end with .html. Adding .html to the end of your file.\n",
      "\n"
     ]
    },
    {
     "data": {
      "text/plain": [
       "'file://D:\\\\WikiData\\\\3D.html'"
      ]
     },
     "execution_count": 259,
     "metadata": {},
     "output_type": "execute_result"
    }
   ],
   "source": [
    "data=[*edge_traces_3d, node_trace_3d,label_trace_3d]\n",
    "fig=go.Figure(data=data, layout=layout)\n",
    "\n",
    "\n",
    "#py.iplot(fig, filename='3D')\n",
    "pyo.plot(fig, filename='3D')"
   ]
  },
  {
   "cell_type": "code",
   "execution_count": null,
   "metadata": {},
   "outputs": [],
   "source": []
  },
  {
   "cell_type": "code",
   "execution_count": null,
   "metadata": {},
   "outputs": [],
   "source": []
  },
  {
   "cell_type": "code",
   "execution_count": null,
   "metadata": {},
   "outputs": [],
   "source": []
  }
 ],
 "metadata": {
  "kernelspec": {
   "display_name": "Python 3",
   "language": "python",
   "name": "python3"
  },
  "language_info": {
   "codemirror_mode": {
    "name": "ipython",
    "version": 3
   },
   "file_extension": ".py",
   "mimetype": "text/x-python",
   "name": "python",
   "nbconvert_exporter": "python",
   "pygments_lexer": "ipython3",
   "version": "3.5.0"
  }
 },
 "nbformat": 4,
 "nbformat_minor": 2
}
